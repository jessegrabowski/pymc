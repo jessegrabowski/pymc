{
 "cells": [
  {
   "cell_type": "code",
   "execution_count": 6,
   "id": "9f946eb4",
   "metadata": {},
   "outputs": [],
   "source": [
    "import pytensor.tensor as pt\n",
    "\n",
    "import pymc as pm"
   ]
  },
  {
   "cell_type": "code",
   "execution_count": 61,
   "id": "e746bc33",
   "metadata": {},
   "outputs": [
    {
     "name": "stderr",
     "output_type": "stream",
     "text": [
      "Sampling: [X, alpha, beta, sigma, y]\n"
     ]
    }
   ],
   "source": [
    "with pm.Model() as m:\n",
    "    X = pm.Normal(\"X\", 0, 1, size=(100, 10))\n",
    "    alpha = pm.Normal(\"alpha\", 100, 10)\n",
    "    beta = pm.Normal(\"beta\", 0, 5, size=(10,))\n",
    "\n",
    "    mu = alpha + X @ beta\n",
    "    sigma = pm.Exponential(\"sigma\", 1)\n",
    "    y = pm.Normal(\"y\", mu=mu, sigma=sigma)\n",
    "\n",
    "    prior = pm.sample_prior_predictive()"
   ]
  },
  {
   "cell_type": "code",
   "execution_count": 62,
   "id": "a8ca0161",
   "metadata": {},
   "outputs": [],
   "source": [
    "draw = 123\n",
    "true_params = np.r_[\n",
    "    prior.prior.alpha.sel(chain=0, draw=draw).values, prior.prior.beta.sel(chain=0, draw=draw)\n",
    "]\n",
    "X_data = prior.prior.X.sel(chain=0, draw=draw).values\n",
    "y_data = prior.prior.y.sel(chain=0, draw=draw).values"
   ]
  },
  {
   "cell_type": "code",
   "execution_count": 63,
   "id": "b89f4031",
   "metadata": {},
   "outputs": [],
   "source": [
    "m_obs = pm.observe(pm.do(m, {X: X_data}), {\"y\": y_data})"
   ]
  },
  {
   "cell_type": "code",
   "execution_count": 168,
   "id": "a42a84e4",
   "metadata": {},
   "outputs": [],
   "source": [
    "Parameter = pt.tensor\n",
    "\n",
    "draws = pt.tensor(\"draws\", shape=(), dtype=\"int64\")\n",
    "\n",
    "with pm.Model() as guide_model:\n",
    "    X = pm.Data(\"X\", X_data)\n",
    "    alpha_loc = Parameter(\"alpha_loc\", shape=())\n",
    "    alpha_scale = Parameter(\"alpha_scale\", shape=())\n",
    "    alpha_z = pm.Normal(\"alpha_z\", mu=0, sigma=1, shape=(draws,))\n",
    "    alpha = pm.Deterministic(\"alpha\", alpha_loc + alpha_scale * alpha_z)\n",
    "\n",
    "    beta_loc = Parameter(\"beta_loc\", shape=(10,))\n",
    "    beta_scale = Parameter(\"beta_scale\", shape=(10,))\n",
    "    beta_z = pm.Normal(\"beta_z\", mu=0, sigma=1, shape=(draws, 10))\n",
    "    beta = pm.Deterministic(\"beta\", beta_loc + beta_scale * beta_z)\n",
    "\n",
    "    mu = alpha + X @ beta\n",
    "\n",
    "    sigma_loc = Parameter(\"sigma_loc\", shape=())\n",
    "    sigma_scale = Parameter(\"sigma_scale\", shape=())\n",
    "    sigma_z = pm.Normal(\"sigma_z\", 0, 1, shape=(draws,))\n",
    "    sigma = pm.Deterministic(\"sigma\", pt.softplus(sigma_loc + sigma_scale * sigma_z))\n",
    "\n",
    "# with pm.Model() as guide_model2:\n",
    "#     n = 10 + 1 + 1\n",
    "#     loc = Parameter(\"loc\", shape=(n,))\n",
    "#     chol_flat = Parameter(\"chol\", shape=(n * n-1, ))\n",
    "#     chol = pm.expand_packed_triangular(n, chol_flat)\n",
    "#     latent_mvn = pm.MvNormal(\"latent_mvn\", chol=chol)\n",
    "\n",
    "#     pm.Deterministic(\"beta\", latent_mvn[:10])\n",
    "#     pm.Deterministic(\"alpha\", latent_mvn[10])\n",
    "#     pm.Deterministic(\"sigma\", pm.math.exp(latent_mvn[11]))"
   ]
  },
  {
   "cell_type": "code",
   "execution_count": 169,
   "id": "bffb1b69",
   "metadata": {},
   "outputs": [],
   "source": [
    "params = [alpha_loc, alpha_scale, beta_loc, beta_scale, sigma_loc, sigma_scale]"
   ]
  },
  {
   "cell_type": "code",
   "execution_count": 171,
   "id": "e2c4dd95",
   "metadata": {},
   "outputs": [],
   "source": [
    "f_draw = pm.compile([*params, draws], guide_model.deterministics)"
   ]
  },
  {
   "cell_type": "code",
   "execution_count": 182,
   "id": "bfe44b73",
   "metadata": {},
   "outputs": [
    {
     "data": {
      "text/plain": [
       "[array([1.78150955]),\n",
       " array([[ 0.22971278,  0.4621461 ,  0.81535912,  0.62397751,  1.12162984,\n",
       "          0.99310042, -0.04733258,  1.20791346,  0.61310399,  0.6248215 ]]),\n",
       " array([1.04612599])]"
      ]
     },
     "execution_count": 182,
     "metadata": {},
     "output_type": "execute_result"
    }
   ],
   "source": [
    "f_draw(**param_dict, draws=1)"
   ]
  },
  {
   "cell_type": "code",
   "execution_count": 204,
   "id": "e831865f",
   "metadata": {},
   "outputs": [],
   "source": [
    "init_dict = m_obs.initial_point()\n",
    "init_dict = {k: np.expand_dims(v, 0) for k, v in init_dict.items()}\n",
    "param_dict = {param.name: np.full(param.type.shape, 0.5) for param in params}"
   ]
  },
  {
   "cell_type": "code",
   "execution_count": 187,
   "id": "a9f3fa0e",
   "metadata": {},
   "outputs": [],
   "source": [
    "from pytensor.graph.replace import graph_replace, vectorize_graph\n",
    "\n",
    "outputs = [m_obs.datalogp, m_obs.varlogp]\n",
    "inputs = m_obs.value_vars\n",
    "inputs_to_guide_rvs = {\n",
    "    model_value_var: guide_model[rv.name]\n",
    "    for rv, model_value_var in m_obs.rvs_to_values.items()\n",
    "    if rv not in m_obs.observed_RVs\n",
    "}\n",
    "model_logp = vectorize_graph(m_obs.logp(), inputs_to_guide_rvs)\n",
    "guide_logq = graph_replace(guide_model.logp(), guide_model.values_to_rvs)\n",
    "\n",
    "elbo_loss = (guide_logq - model_logp).mean()\n",
    "d_loss = pt.grad(elbo_loss, params)\n",
    "\n",
    "f_loss_dloss = pm.compile(params + [draws], [elbo_loss, *d_loss], trust_input=True)"
   ]
  },
  {
   "cell_type": "code",
   "execution_count": 207,
   "id": "6086f2cc",
   "metadata": {},
   "outputs": [
    {
     "name": "stdout",
     "output_type": "stream",
     "text": [
      "-993.9173656892265\n",
      "-926.3296229583198\n",
      "-1005.6712508438249\n",
      "-919.6431050083108\n",
      "-968.0575921556582\n",
      "-987.30412574489\n",
      "-964.7096352135038\n",
      "-983.4362084632743\n",
      "-910.8310347546233\n",
      "-946.7555282915881\n",
      "-943.9616597508198\n",
      "-963.8766211135949\n",
      "-916.6993999462212\n",
      "-950.0475547851752\n",
      "-967.001546433409\n",
      "-943.9433767873104\n",
      "-946.3015434524876\n",
      "-934.0032018513697\n",
      "-947.6452058569878\n",
      "-893.224934118183\n",
      "-979.4405814988748\n",
      "-937.9997192780036\n",
      "-931.1970724735944\n",
      "-959.3588230003159\n",
      "-932.1233734322371\n",
      "-940.2791556640857\n",
      "-969.4679954671045\n",
      "-954.6606993395337\n",
      "-982.9304227234845\n",
      "-935.3404389982638\n",
      "-982.6885250322749\n",
      "-964.4628736035113\n",
      "-939.0580477804804\n",
      "-955.1672719181267\n",
      "-982.0467504680682\n",
      "-992.8688427985264\n",
      "-967.8588846826874\n",
      "-966.7655668600194\n",
      "-949.3323016540423\n",
      "-934.3919364553586\n",
      "-1028.4493525361129\n",
      "-982.4944127954707\n",
      "-931.9404059809432\n",
      "-981.3845063690508\n",
      "-930.1688452196312\n",
      "-952.0305908505434\n",
      "-1012.7969628343917\n",
      "-937.6379090307294\n",
      "-926.5273721862864\n",
      "-981.6665090046366\n",
      "-980.4287957334458\n",
      "-946.1849036479391\n",
      "-969.4075653507354\n",
      "-958.7555610935674\n",
      "-1004.2802914265156\n",
      "-963.0682736675113\n",
      "-1000.664222867785\n",
      "-934.7298341549889\n",
      "-978.1088760452403\n",
      "-944.0432566257858\n",
      "-980.5576704437719\n",
      "-969.5612703209024\n",
      "-963.9839441465232\n",
      "-966.4944698264674\n",
      "-953.2780303578338\n",
      "-953.5548215260793\n",
      "-959.5050408283469\n",
      "-989.7240037630827\n",
      "-949.1398757808872\n",
      "-964.8820244293524\n",
      "-940.224485134473\n",
      "-947.7591586789077\n",
      "-964.679359616359\n",
      "-917.0015516708557\n",
      "-939.5619779661295\n",
      "-993.9876761804422\n",
      "-986.3960585411946\n",
      "-975.6545633352575\n",
      "-957.4304264740541\n",
      "-970.7472516497804\n",
      "-956.5223102168254\n",
      "-969.825369100695\n",
      "-987.9141239728567\n",
      "-952.6424507446926\n",
      "-958.6852758514054\n",
      "-965.0105265156106\n",
      "-962.943175120098\n",
      "-946.9378229990178\n",
      "-944.4992023963096\n",
      "-947.4171539678032\n",
      "-959.1841786549261\n",
      "-931.9541021582517\n",
      "-972.675454084302\n",
      "-1030.6428849456215\n",
      "-983.2067258579275\n",
      "-1002.0505700409622\n",
      "-1015.4906878612064\n",
      "-962.2604231546592\n",
      "-955.1833250683931\n",
      "-938.1777960392025\n"
     ]
    }
   ],
   "source": [
    "learning_rate = 1e-4\n",
    "for _ in range(100):\n",
    "    loss, *grads = f_loss_dloss(**param_dict, draws=100)\n",
    "    for (name, value), grad in zip(param_dict.items(), grads):\n",
    "        param_dict[name] = value - learning_rate * grad\n",
    "    print(loss)"
   ]
  },
  {
   "cell_type": "code",
   "execution_count": 208,
   "id": "1251b6f1",
   "metadata": {},
   "outputs": [
    {
     "data": {
      "text/plain": [
       "{'alpha_loc': 0.6942395020077371,\n",
       " 'alpha_scale': 0.5102778323184816,\n",
       " 'beta_loc': array([0.49114368, 0.46379742, 0.52277764, 0.53227815, 0.48851862,\n",
       "        0.50044113, 0.5441339 , 0.46643231, 0.47894475, 0.51122713]),\n",
       " 'beta_scale': array([0.49807094, 0.49740464, 0.5005586 , 0.4991539 , 0.49749037,\n",
       "        0.49825551, 0.49992182, 0.4981251 , 0.49745959, 0.49767778]),\n",
       " 'sigma_loc': 4.2148859620931765,\n",
       " 'sigma_scale': -5.964631972194452e-05}"
      ]
     },
     "execution_count": 208,
     "metadata": {},
     "output_type": "execute_result"
    }
   ],
   "source": [
    "param_dict"
   ]
  },
  {
   "cell_type": "code",
   "execution_count": 209,
   "id": "11345fb4",
   "metadata": {},
   "outputs": [
    {
     "data": {
      "text/plain": [
       "array([83.43771778, -6.07738876, -3.3268889 ,  8.38393732, 10.77212434,\n",
       "       -2.81776509,  0.46737085,  8.7204497 , -4.79822835, -3.47220908,\n",
       "        8.76186526])"
      ]
     },
     "execution_count": 209,
     "metadata": {},
     "output_type": "execute_result"
    }
   ],
   "source": [
    "true_params"
   ]
  },
  {
   "cell_type": "code",
   "execution_count": 165,
   "id": "566105c2",
   "metadata": {},
   "outputs": [
    {
     "data": {
      "text/plain": [
       "array(273519.9558606)"
      ]
     },
     "execution_count": 165,
     "metadata": {},
     "output_type": "execute_result"
    }
   ],
   "source": [
    "f_loss(**param_dict, draws=100)"
   ]
  },
  {
   "cell_type": "code",
   "execution_count": 166,
   "id": "c39cd24e",
   "metadata": {},
   "outputs": [
    {
     "data": {
      "text/plain": [
       "[alpha_loc, alpha_scale, beta_loc, beta_scale, sigma_loc, sigma_scale]"
      ]
     },
     "execution_count": 166,
     "metadata": {},
     "output_type": "execute_result"
    }
   ],
   "source": [
    "params"
   ]
  },
  {
   "cell_type": "code",
   "execution_count": 106,
   "id": "310c739f",
   "metadata": {},
   "outputs": [
    {
     "data": {
      "text/plain": [
       "{alpha: alpha, beta: beta, sigma_log__: sigma}"
      ]
     },
     "execution_count": 106,
     "metadata": {},
     "output_type": "execute_result"
    }
   ],
   "source": [
    "inputs_to_guide_inputs"
   ]
  },
  {
   "cell_type": "code",
   "execution_count": 22,
   "id": "2fe8da0a",
   "metadata": {},
   "outputs": [],
   "source": [
    "def compute_loss(m_obs, m_guide, beta=1.0):\n",
    "    return -m_obs.datalogp + beta * (m_guide.logp() - m_obs.varlogp)"
   ]
  },
  {
   "cell_type": "code",
   "execution_count": 24,
   "id": "b04b9b5c",
   "metadata": {},
   "outputs": [
    {
     "name": "stdout",
     "output_type": "stream",
     "text": [
      "Add [id A]\n",
      " ├─ Neg [id B]\n",
      " │  └─ Add [id C]\n",
      " │     ├─ Sum{axes=None} [id D] '__logp'\n",
      " │     │  └─ MakeVector{dtype='float64'} [id E]\n",
      " │     │     └─ Sum{axes=None} [id F]\n",
      " │     │        └─ Check{sigma > 0} [id G]\n",
      " │     │           ├─ Sub [id H]\n",
      " │     │           │  ├─ Sub [id I]\n",
      " │     │           │  │  ├─ Mul [id J]\n",
      " │     │           │  │  │  ├─ ExpandDims{axis=0} [id K]\n",
      " │     │           │  │  │  │  └─ -0.5 [id L]\n",
      " │     │           │  │  │  └─ Pow [id M]\n",
      " │     │           │  │  │     ├─ True_div [id N]\n",
      " │     │           │  │  │     │  ├─ Sub [id O]\n",
      " │     │           │  │  │     │  │  ├─ [122.65317 ... .32067026] [id P]\n",
      " │     │           │  │  │     │  │  └─ Add [id Q]\n",
      " │     │           │  │  │     │  │     ├─ ExpandDims{axis=0} [id R]\n",
      " │     │           │  │  │     │  │     │  └─ alpha [id S]\n",
      " │     │           │  │  │     │  │     └─ Squeeze{axis=1} [id T]\n",
      " │     │           │  │  │     │  │        └─ Blockwise{dot, (m,k),(k,n)->(m,n)} [id U]\n",
      " │     │           │  │  │     │  │           ├─ X [id V]\n",
      " │     │           │  │  │     │  │           └─ ExpandDims{axis=1} [id W]\n",
      " │     │           │  │  │     │  │              └─ beta [id X]\n",
      " │     │           │  │  │     │  └─ ExpandDims{axis=0} [id Y]\n",
      " │     │           │  │  │     │     └─ Exp [id Z]\n",
      " │     │           │  │  │     │        └─ sigma_log__ [id BA]\n",
      " │     │           │  │  │     └─ ExpandDims{axis=0} [id BB]\n",
      " │     │           │  │  │        └─ 2 [id BC]\n",
      " │     │           │  │  └─ ExpandDims{axis=0} [id BD]\n",
      " │     │           │  │     └─ Log [id BE]\n",
      " │     │           │  │        └─ Sqrt [id BF]\n",
      " │     │           │  │           └─ 6.283185307179586 [id BG]\n",
      " │     │           │  └─ Log [id BH]\n",
      " │     │           │     └─ ExpandDims{axis=0} [id Y]\n",
      " │     │           │        └─ ···\n",
      " │     │           └─ All{axes=None} [id BI]\n",
      " │     │              └─ MakeVector{dtype='bool'} [id BJ]\n",
      " │     │                 └─ All{axes=None} [id BK]\n",
      " │     │                    └─ Gt [id BL]\n",
      " │     │                       ├─ ExpandDims{axis=0} [id Y]\n",
      " │     │                       │  └─ ···\n",
      " │     │                       └─ ExpandDims{axis=0} [id BM]\n",
      " │     │                          └─ 0 [id BN]\n",
      " │     └─ 0.0 [id BO]\n",
      " └─ Mul [id BP]\n",
      "    ├─ 1.0 [id BQ]\n",
      "    └─ Sub [id BR]\n",
      "       ├─ Sum{axes=None} [id BS] '__logp'\n",
      "       │  └─ MakeVector{dtype='float64'} [id BT]\n",
      "       │     ├─ Sum{axes=None} [id BU]\n",
      "       │     │  └─ Check{sigma > 0} [id BV] 'alpha_logprob'\n",
      "       │     │     ├─ Sub [id BW]\n",
      "       │     │     │  ├─ Sub [id BX]\n",
      "       │     │     │  │  ├─ Mul [id BY]\n",
      "       │     │     │  │  │  ├─ -0.5 [id BZ]\n",
      "       │     │     │  │  │  └─ Pow [id CA]\n",
      "       │     │     │  │  │     ├─ True_div [id CB]\n",
      "       │     │     │  │  │     │  ├─ Sub [id CC]\n",
      "       │     │     │  │  │     │  │  ├─ alpha [id CD]\n",
      "       │     │     │  │  │     │  │  └─ alpha_loc [id CE]\n",
      "       │     │     │  │  │     │  └─ alpha_scale [id CF]\n",
      "       │     │     │  │  │     └─ 2 [id CG]\n",
      "       │     │     │  │  └─ Log [id CH]\n",
      "       │     │     │  │     └─ Sqrt [id CI]\n",
      "       │     │     │  │        └─ 6.283185307179586 [id CJ]\n",
      "       │     │     │  └─ Log [id CK]\n",
      "       │     │     │     └─ alpha_scale [id CF]\n",
      "       │     │     └─ All{axes=None} [id CL]\n",
      "       │     │        └─ MakeVector{dtype='bool'} [id CM]\n",
      "       │     │           └─ All{axes=None} [id CN]\n",
      "       │     │              └─ Gt [id CO]\n",
      "       │     │                 ├─ alpha_scale [id CF]\n",
      "       │     │                 └─ 0 [id CP]\n",
      "       │     ├─ Sum{axes=None} [id CQ]\n",
      "       │     │  └─ Check{sigma > 0} [id CR] 'beta_logprob'\n",
      "       │     │     ├─ Sub [id CS]\n",
      "       │     │     │  ├─ Sub [id CT]\n",
      "       │     │     │  │  ├─ Mul [id CU]\n",
      "       │     │     │  │  │  ├─ ExpandDims{axis=0} [id CV]\n",
      "       │     │     │  │  │  │  └─ -0.5 [id CW]\n",
      "       │     │     │  │  │  └─ Pow [id CX]\n",
      "       │     │     │  │  │     ├─ True_div [id CY]\n",
      "       │     │     │  │  │     │  ├─ Sub [id CZ]\n",
      "       │     │     │  │  │     │  │  ├─ beta [id DA]\n",
      "       │     │     │  │  │     │  │  └─ beta_loc [id DB]\n",
      "       │     │     │  │  │     │  └─ beta_scale [id DC]\n",
      "       │     │     │  │  │     └─ ExpandDims{axis=0} [id DD]\n",
      "       │     │     │  │  │        └─ 2 [id DE]\n",
      "       │     │     │  │  └─ ExpandDims{axis=0} [id DF]\n",
      "       │     │     │  │     └─ Log [id DG]\n",
      "       │     │     │  │        └─ Sqrt [id DH]\n",
      "       │     │     │  │           └─ 6.283185307179586 [id DI]\n",
      "       │     │     │  └─ Log [id DJ]\n",
      "       │     │     │     └─ beta_scale [id DC]\n",
      "       │     │     └─ All{axes=None} [id DK]\n",
      "       │     │        └─ MakeVector{dtype='bool'} [id DL]\n",
      "       │     │           └─ All{axes=None} [id DM]\n",
      "       │     │              └─ Gt [id DN]\n",
      "       │     │                 ├─ beta_scale [id DC]\n",
      "       │     │                 └─ ExpandDims{axis=0} [id DO]\n",
      "       │     │                    └─ 0 [id DP]\n",
      "       │     └─ Sum{axes=None} [id DQ]\n",
      "       │        └─ Add [id DR] 'sigma_log___logprob'\n",
      "       │           ├─ Check{sigma > 0} [id DS]\n",
      "       │           │  ├─ Sub [id DT]\n",
      "       │           │  │  ├─ Sub [id DU]\n",
      "       │           │  │  │  ├─ Mul [id DV]\n",
      "       │           │  │  │  │  ├─ -0.5 [id DW]\n",
      "       │           │  │  │  │  └─ Pow [id DX]\n",
      "       │           │  │  │  │     ├─ True_div [id DY]\n",
      "       │           │  │  │  │     │  ├─ Sub [id DZ]\n",
      "       │           │  │  │  │     │  │  ├─ Exp [id EA]\n",
      "       │           │  │  │  │     │  │  │  └─ sigma_log__ [id EB]\n",
      "       │           │  │  │  │     │  │  └─ sigma_loc [id EC]\n",
      "       │           │  │  │  │     │  └─ sigma_scale [id ED]\n",
      "       │           │  │  │  │     └─ 2 [id EE]\n",
      "       │           │  │  │  └─ Log [id EF]\n",
      "       │           │  │  │     └─ Sqrt [id EG]\n",
      "       │           │  │  │        └─ 6.283185307179586 [id EH]\n",
      "       │           │  │  └─ Log [id EI]\n",
      "       │           │  │     └─ sigma_scale [id ED]\n",
      "       │           │  └─ All{axes=None} [id EJ]\n",
      "       │           │     └─ MakeVector{dtype='bool'} [id EK]\n",
      "       │           │        └─ All{axes=None} [id EL]\n",
      "       │           │           └─ Gt [id EM]\n",
      "       │           │              ├─ sigma_scale [id ED]\n",
      "       │           │              └─ 0 [id EN]\n",
      "       │           └─ Identity [id EO] 'sigma_log___log_jacobian'\n",
      "       │              └─ sigma_log__ [id EB]\n",
      "       └─ Sum{axes=None} [id EP] '__logp'\n",
      "          └─ MakeVector{dtype='float64'} [id EQ]\n",
      "             ├─ Sum{axes=None} [id ER]\n",
      "             │  └─ Check{sigma > 0} [id ES] 'X_logprob'\n",
      "             │     ├─ Sub [id ET]\n",
      "             │     │  ├─ Sub [id EU]\n",
      "             │     │  │  ├─ Mul [id EV]\n",
      "             │     │  │  │  ├─ ExpandDims{axes=[0, 1]} [id EW]\n",
      "             │     │  │  │  │  └─ -0.5 [id EX]\n",
      "             │     │  │  │  └─ Pow [id EY]\n",
      "             │     │  │  │     ├─ True_div [id EZ]\n",
      "             │     │  │  │     │  ├─ Sub [id FA]\n",
      "             │     │  │  │     │  │  ├─ X [id V]\n",
      "             │     │  │  │     │  │  └─ [[0]] [id FB]\n",
      "             │     │  │  │     │  └─ [[1]] [id FC]\n",
      "             │     │  │  │     └─ ExpandDims{axes=[0, 1]} [id FD]\n",
      "             │     │  │  │        └─ 2 [id FE]\n",
      "             │     │  │  └─ ExpandDims{axes=[0, 1]} [id FF]\n",
      "             │     │  │     └─ Log [id FG]\n",
      "             │     │  │        └─ Sqrt [id FH]\n",
      "             │     │  │           └─ 6.283185307179586 [id FI]\n",
      "             │     │  └─ Log [id FJ]\n",
      "             │     │     └─ [[1]] [id FC]\n",
      "             │     └─ All{axes=None} [id FK]\n",
      "             │        └─ MakeVector{dtype='bool'} [id FL]\n",
      "             │           └─ All{axes=None} [id FM]\n",
      "             │              └─ Gt [id FN]\n",
      "             │                 ├─ [[1]] [id FC]\n",
      "             │                 └─ ExpandDims{axes=[0, 1]} [id FO]\n",
      "             │                    └─ 0 [id FP]\n",
      "             ├─ Sum{axes=None} [id FQ]\n",
      "             │  └─ Check{sigma > 0} [id FR] 'alpha_logprob'\n",
      "             │     ├─ Sub [id FS]\n",
      "             │     │  ├─ Sub [id FT]\n",
      "             │     │  │  ├─ Mul [id FU]\n",
      "             │     │  │  │  ├─ -0.5 [id FV]\n",
      "             │     │  │  │  └─ Pow [id FW]\n",
      "             │     │  │  │     ├─ True_div [id FX]\n",
      "             │     │  │  │     │  ├─ Sub [id FY]\n",
      "             │     │  │  │     │  │  ├─ alpha [id S]\n",
      "             │     │  │  │     │  │  └─ 100 [id FZ]\n",
      "             │     │  │  │     │  └─ 10 [id GA]\n",
      "             │     │  │  │     └─ 2 [id GB]\n",
      "             │     │  │  └─ Log [id GC]\n",
      "             │     │  │     └─ Sqrt [id GD]\n",
      "             │     │  │        └─ 6.283185307179586 [id GE]\n",
      "             │     │  └─ Log [id GF]\n",
      "             │     │     └─ 10 [id GA]\n",
      "             │     └─ All{axes=None} [id GG]\n",
      "             │        └─ MakeVector{dtype='bool'} [id GH]\n",
      "             │           └─ All{axes=None} [id GI]\n",
      "             │              └─ Gt [id GJ]\n",
      "             │                 ├─ 10 [id GA]\n",
      "             │                 └─ 0 [id GK]\n",
      "             ├─ Sum{axes=None} [id GL]\n",
      "             │  └─ Check{sigma > 0} [id GM] 'beta_logprob'\n",
      "             │     ├─ Sub [id GN]\n",
      "             │     │  ├─ Sub [id GO]\n",
      "             │     │  │  ├─ Mul [id GP]\n",
      "             │     │  │  │  ├─ ExpandDims{axis=0} [id GQ]\n",
      "             │     │  │  │  │  └─ -0.5 [id GR]\n",
      "             │     │  │  │  └─ Pow [id GS]\n",
      "             │     │  │  │     ├─ True_div [id GT]\n",
      "             │     │  │  │     │  ├─ Sub [id GU]\n",
      "             │     │  │  │     │  │  ├─ beta [id X]\n",
      "             │     │  │  │     │  │  └─ [0] [id GV]\n",
      "             │     │  │  │     │  └─ [5] [id GW]\n",
      "             │     │  │  │     └─ ExpandDims{axis=0} [id GX]\n",
      "             │     │  │  │        └─ 2 [id GY]\n",
      "             │     │  │  └─ ExpandDims{axis=0} [id GZ]\n",
      "             │     │  │     └─ Log [id HA]\n",
      "             │     │  │        └─ Sqrt [id HB]\n",
      "             │     │  │           └─ 6.283185307179586 [id HC]\n",
      "             │     │  └─ Log [id HD]\n",
      "             │     │     └─ [5] [id GW]\n",
      "             │     └─ All{axes=None} [id HE]\n",
      "             │        └─ MakeVector{dtype='bool'} [id HF]\n",
      "             │           └─ All{axes=None} [id HG]\n",
      "             │              └─ Gt [id HH]\n",
      "             │                 ├─ [5] [id GW]\n",
      "             │                 └─ ExpandDims{axis=0} [id HI]\n",
      "             │                    └─ 0 [id HJ]\n",
      "             └─ Sum{axes=None} [id HK]\n",
      "                └─ Add [id HL] 'sigma_log___logprob'\n",
      "                   ├─ Check{mu >= 0} [id HM]\n",
      "                   │  ├─ Switch [id HN]\n",
      "                   │  │  ├─ Ge [id HO]\n",
      "                   │  │  │  ├─ Exp [id HP]\n",
      "                   │  │  │  │  └─ sigma_log__ [id BA]\n",
      "                   │  │  │  └─ 0.0 [id HQ]\n",
      "                   │  │  ├─ Sub [id HR]\n",
      "                   │  │  │  ├─ Neg [id HS]\n",
      "                   │  │  │  │  └─ Log [id HT]\n",
      "                   │  │  │  │     └─ 1.0 [id HU]\n",
      "                   │  │  │  └─ True_div [id HV]\n",
      "                   │  │  │     ├─ Exp [id HP]\n",
      "                   │  │  │     │  └─ ···\n",
      "                   │  │  │     └─ 1.0 [id HU]\n",
      "                   │  │  └─ -inf [id HW]\n",
      "                   │  └─ All{axes=None} [id HX]\n",
      "                   │     └─ MakeVector{dtype='bool'} [id HY]\n",
      "                   │        └─ All{axes=None} [id HZ]\n",
      "                   │           └─ Ge [id IA]\n",
      "                   │              ├─ 1.0 [id HU]\n",
      "                   │              └─ 0 [id IB]\n",
      "                   └─ Identity [id IC] 'sigma_log___log_jacobian'\n",
      "                      └─ sigma_log__ [id BA]\n"
     ]
    },
    {
     "data": {
      "text/plain": [
       "<ipykernel.iostream.OutStream at 0x7fc2f638ea10>"
      ]
     },
     "execution_count": 24,
     "metadata": {},
     "output_type": "execute_result"
    }
   ],
   "source": [
    "compute_loss(m_obs, guide_model).dprint()"
   ]
  },
  {
   "cell_type": "code",
   "execution_count": null,
   "id": "d155685f",
   "metadata": {},
   "outputs": [],
   "source": []
  },
  {
   "cell_type": "code",
   "execution_count": null,
   "id": "98fe5067",
   "metadata": {},
   "outputs": [],
   "source": [
    "## TODO:\n",
    "# 1. Create hyperparameters for mean field approx (mu + sigma of normals)\n",
    "# 2. Replace in the logp"
   ]
  },
  {
   "cell_type": "code",
   "execution_count": null,
   "id": "e01dcf96",
   "metadata": {},
   "outputs": [],
   "source": []
  }
 ],
 "metadata": {
  "kernelspec": {
   "display_name": "Python 3 (ipykernel)",
   "language": "python",
   "name": "python3"
  },
  "language_info": {
   "codemirror_mode": {
    "name": "ipython",
    "version": 3
   },
   "file_extension": ".py",
   "mimetype": "text/x-python",
   "name": "python",
   "nbconvert_exporter": "python",
   "pygments_lexer": "ipython3",
   "version": "3.11.11"
  }
 },
 "nbformat": 4,
 "nbformat_minor": 5
}
